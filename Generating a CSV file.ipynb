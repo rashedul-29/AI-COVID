{
 "cells": [
  {
   "cell_type": "code",
   "execution_count": 1,
   "metadata": {},
   "outputs": [
    {
     "name": "stdout",
     "output_type": "stream",
     "text": [
      "Results saved to C:\\Users\\ASUS\\Downloads\\outlier_results.csv\n"
     ]
    }
   ],
   "source": [
    "import pandas as pd\n",
    "import numpy as np\n",
    "from scipy import stats\n",
    "\n",
    "# Reading the Excel file\n",
    "df = pd.read_excel(r'C:\\Users\\ASUS\\Downloads\\final_cleaned_dataset.xlsx')\n",
    "\n",
    "# Selecting the columns of interest (Specifically numeric columns)\n",
    "numeric_columns = df.select_dtypes(include='number').columns\n",
    "\n",
    "# Setting the Z-score threshold for identifying outliers (threshold of 3 here)\n",
    "zscore_threshold = 3\n",
    "\n",
    "# Initializing a dictionary to store all the results\n",
    "results = {}\n",
    "\n",
    "# Iterating over each numeric column\n",
    "for column in numeric_columns:\n",
    "    # Calculating the Z-scores for the column\n",
    "    zscores = np.abs((df[column] - df[column].mean()) / df[column].std())\n",
    "    \n",
    "    # Identifying outliers based on the Z-score threshold\n",
    "    outliers = df[zscores >= zscore_threshold]\n",
    "    \n",
    "    # Calculating the percentage of outlier values\n",
    "    percentage_outliers = (len(outliers) / len(df)) * 100\n",
    "    \n",
    "    # Determining the range of values that are outliers\n",
    "    outlier_range_start = df[column][zscores.idxmax()]\n",
    "    outlier_range_end = df[column][zscores.idxmax()]\n",
    "    \n",
    "    for index in outliers.index:\n",
    "        value = df[column][index]\n",
    "        if value < outlier_range_start:\n",
    "            outlier_range_start = value\n",
    "        elif value > outlier_range_end:\n",
    "            outlier_range_end = value\n",
    "    \n",
    "    # Calculating the parameters mean, median, mode, Q1, Q2, and Q3\n",
    "    mean_value = df[column].mean()\n",
    "    median_value = df[column].median()\n",
    "    mode_value = stats.mode(df[column])[0][0]\n",
    "    q1_value = df[column].quantile(0.25)\n",
    "    q2_value = median_value  # Same as median\n",
    "    q3_value = df[column].quantile(0.75)\n",
    "    \n",
    "    # Storing all the results in the dictionary\n",
    "    results[column] = {\n",
    "        'percentage_outliers': percentage_outliers,\n",
    "        'outlier_range_start': outlier_range_start,\n",
    "        'outlier_range_end': outlier_range_end,\n",
    "        'outliers': outliers[column].tolist(),\n",
    "        'mean': mean_value,\n",
    "        'median': median_value,\n",
    "        'mode': mode_value,\n",
    "        'Q1': q1_value,\n",
    "        'Q2': q2_value,\n",
    "        'Q3': q3_value\n",
    "    }\n",
    "\n",
    "# Storing all the results in a DataFrame\n",
    "results_df = pd.DataFrame(results).T\n",
    "\n",
    "# Defining the CSV file path\n",
    "csv_file_path = r'C:\\Users\\ASUS\\Downloads\\outlier_results.csv'\n",
    "\n",
    "# Saving the DataFrame to a CSV file\n",
    "results_df.to_csv(csv_file_path, index_label='Column')\n",
    "\n",
    "# Printing a message finally to confirm the file has been saved\n",
    "print(f\"Results saved to {csv_file_path}\")\n"
   ]
  },
  {
   "cell_type": "code",
   "execution_count": null,
   "metadata": {},
   "outputs": [],
   "source": []
  }
 ],
 "metadata": {
  "kernelspec": {
   "display_name": "Python 3",
   "language": "python",
   "name": "python3"
  },
  "language_info": {
   "codemirror_mode": {
    "name": "ipython",
    "version": 3
   },
   "file_extension": ".py",
   "mimetype": "text/x-python",
   "name": "python",
   "nbconvert_exporter": "python",
   "pygments_lexer": "ipython3",
   "version": "3.8.5"
  }
 },
 "nbformat": 4,
 "nbformat_minor": 4
}
